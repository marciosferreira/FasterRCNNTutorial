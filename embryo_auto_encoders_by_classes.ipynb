{
  "cells": [
    {
      "cell_type": "markdown",
      "metadata": {
        "id": "view-in-github",
        "colab_type": "text"
      },
      "source": [
        "<a href=\"https://colab.research.google.com/github/marciosferreira/FasterRCNNTutorial/blob/master/embryo_auto_encoders_by_classes.ipynb\" target=\"_parent\"><img src=\"https://colab.research.google.com/assets/colab-badge.svg\" alt=\"Open In Colab\"/></a>"
      ]
    },
    {
      "cell_type": "markdown",
      "metadata": {
        "id": "iA0nbxY9fu5Q"
      },
      "source": [
        "# Variational autoencoder and its extensions\n",
        "\n",
        "\n",
        "---\n",
        "\n",
        "This notebook demonstrates application of different variational autoencoders (VAEs) to rotated images. Specifically, we discuss rotationally invariant version of VAE (rVAE) and class-conditioned VAE and rVAE.\n",
        "\n",
        "Prepared by Maxim Ziatdinov  (Feb 2021)\n",
        "\n",
        "E-mail: maxim.ziatdinov@ai4microscopy.com\n",
        "\n",
        "---\n",
        "\n"
      ]
    },
    {
      "cell_type": "markdown",
      "metadata": {
        "id": "ZidnZNsUahdL"
      },
      "source": [
        "## Installation/Imports/Utility functions\n",
        "\n",
        "*Make sure to click \"Play\" button for the next 4 cells (\"Installation and Imports\", \"Load neural networks for VAE\", etc.) to load all the necessary modules and functions!*\n",
        "\n",
        "#@title Installation and Imports\n"
      ]
    },
    {
      "cell_type": "code",
      "execution_count": 58,
      "metadata": {
        "id": "iGEzWnJZhWo5"
      },
      "outputs": [],
      "source": [
        "#@title Installation and Imports\n",
        "\n",
        "!pip install -qq pyro-ppl\n",
        "\n",
        "from typing import Optional, Tuple, Type, Union\n",
        "\n",
        "import matplotlib.pyplot as plt\n",
        "import seaborn as sns\n",
        "import numpy as np\n",
        "import pyro\n",
        "import pyro.distributions as dist\n",
        "import pyro.infer as infer\n",
        "import pyro.optim as optim\n",
        "import torch\n",
        "import torch.nn as nn\n",
        "from torch import Tensor as tt\n",
        "from scipy.stats import norm\n",
        "from torchvision import datasets, transforms\n",
        "from torchvision.utils import make_grid\n",
        "\n",
        "import warnings\n",
        "warnings.filterwarnings(\"ignore\", module=\"torchvision.datasets\")\n",
        "\n",
        "from torchvision.transforms import ToPILImage\n"
      ]
    },
    {
      "cell_type": "code",
      "execution_count": 59,
      "metadata": {
        "id": "oEuCL9NUU46F"
      },
      "outputs": [],
      "source": [
        "#@title Load functions for working with image coordinates and labels { form-width: \"25%\" }\n",
        "\n",
        "def to_onehot(idx: torch.Tensor, n: int) -> torch.Tensor:\n",
        "\n",
        "\n",
        "    \"\"\"\n",
        "    One-hot encoding of a label\n",
        "    \"\"\"\n",
        "    #print(\"onehot\")\n",
        "    #print(idx)\n",
        "    if torch.max(idx).item() >= n:\n",
        "        raise AssertionError(\n",
        "            \"Labelling must start from 0 and \"\n",
        "            \"maximum label value must be less than total number of classes\")\n",
        "    device = 'cuda' if torch.cuda.is_available() else 'cpu'\n",
        "    if idx.dim() == 1:\n",
        "        idx = idx.unsqueeze(1).long()\n",
        "    onehot = torch.zeros(idx.size(0), n, device=device)\n",
        "    #return onehot.scatter_(1, idx.to(device), 1)\n",
        "    return onehot.scatter_(1, idx.long().to(device), 1)\n",
        "\n",
        "\n",
        "\n",
        "def grid2xy(X1: torch.Tensor, X2: torch.Tensor) -> torch.Tensor:\n",
        "    X = torch.cat((X1[None], X2[None]), 0)\n",
        "    d0, d1 = X.shape[0], X.shape[1] * X.shape[2]\n",
        "    X = X.reshape(d0, d1).T\n",
        "    return X\n",
        "\n",
        "\n",
        "def imcoordgrid(im_dim: Tuple) -> torch.Tensor:\n",
        "    xx = torch.linspace(-1, 1, im_dim[0])\n",
        "    yy = torch.linspace(1, -1, im_dim[1])\n",
        "    x0, x1 = torch.meshgrid(xx, yy)\n",
        "    return grid2xy(x0, x1)\n",
        "\n",
        "\n",
        "def transform_coordinates(coord: torch.Tensor,\n",
        "                          phi: Union[torch.Tensor, float] = 0,\n",
        "                          coord_dx: Union[torch.Tensor, float] = 0,\n",
        "                          ) -> torch.Tensor:\n",
        "\n",
        "    if torch.sum(phi) == 0:\n",
        "        phi = coord.new_zeros(coord.shape[0])\n",
        "    rotmat_r1 = torch.stack([torch.cos(phi), torch.sin(phi)], 1)\n",
        "    rotmat_r2 = torch.stack([-torch.sin(phi), torch.cos(phi)], 1)\n",
        "    rotmat = torch.stack([rotmat_r1, rotmat_r2], axis=1)\n",
        "    coord = torch.bmm(coord, rotmat)\n",
        "\n",
        "\n",
        "\n",
        "\n",
        "    return coord + coord_dx"
      ]
    },
    {
      "cell_type": "code",
      "execution_count": 60,
      "metadata": {
        "id": "nJvRO-sPe0mx"
      },
      "outputs": [],
      "source": [
        "#@title Load neural networks for VAE { form-width: \"25%\" }\n",
        "\n",
        "def set_deterministic_mode(seed: int) -> None:\n",
        "    torch.manual_seed(seed)\n",
        "    if torch.cuda.is_available():\n",
        "        torch.cuda.empty_cache()\n",
        "        torch.cuda.manual_seed_all(seed)\n",
        "        torch.backends.cudnn.deterministic = True\n",
        "        torch.backends.cudnn.benchmark = False\n",
        "\n",
        "\n",
        "def make_fc_layers(in_dim: int,\n",
        "                   hidden_dim: int = 128,\n",
        "                   num_layers: int = 3,\n",
        "                   activation: str = \"lrelu\"\n",
        "                   ) -> Type[nn.Module]:\n",
        "    \"\"\"\n",
        "    Generates a module with stacked fully-connected (aka dense) layers\n",
        "    \"\"\"\n",
        "    in_dim=int(in_dim)\n",
        "\n",
        "\n",
        "    activations = {\n",
        "    \"tanh\": nn.Tanh,\n",
        "    \"lrelu\": nn.LeakyReLU,\n",
        "    \"softplus\": nn.Softplus,\n",
        "    \"linear\": nn.Identity\n",
        "}\n",
        "\n",
        "\n",
        "    fc_layers = []\n",
        "\n",
        "    for i in range(num_layers):\n",
        "        hidden_dim_ = in_dim if i == 0 else hidden_dim\n",
        "        fc_layers.extend(\n",
        "            [nn.Linear(hidden_dim_, hidden_dim),\n",
        "            activations[activation]()])\n",
        "\n",
        "\n",
        "    fc_layers = nn.Sequential(*fc_layers)\n",
        "    return fc_layers\n",
        "\n",
        "\n",
        "class fcEncoderNet(nn.Module):\n",
        "    \"\"\"\n",
        "    Simple fully-connected inference (encoder) network\n",
        "    \"\"\"\n",
        "    def __init__(self,\n",
        "                 in_dim: Tuple[int],\n",
        "                 latent_dim: int = 4,\n",
        "                 hidden_dim:int = 128,\n",
        "                 num_layers: int = 3,\n",
        "                 activation: str = 'lrelu',\n",
        "                 softplus_out: bool = False\n",
        "                 ) -> None:\n",
        "        \"\"\"\n",
        "        Initializes module parameters\n",
        "        \"\"\"\n",
        "\n",
        "        super(fcEncoderNet, self).__init__()\n",
        "\n",
        "\n",
        "        if len(in_dim) not in [1, 2, 3]:\n",
        "            raise ValueError(\"in_dim must be (h, w), (h, w, c), or (h*w*c,)\")\n",
        "        self.in_dim = torch.prod(tt(in_dim)).item()\n",
        "\n",
        "\n",
        "\n",
        "        self.fc_layers = make_fc_layers(\n",
        "        self.in_dim, hidden_dim, num_layers, activation)\n",
        "        self.fc11 = nn.Linear(hidden_dim, latent_dim)\n",
        "        self.fc12 = nn.Linear(hidden_dim, latent_dim)\n",
        "        self.activation_out = nn.Softplus() if softplus_out else lambda x: x\n",
        "\n",
        "    def forward(self, x: torch.Tensor) -> Tuple[torch.Tensor]:\n",
        "        \"\"\"\n",
        "        Forward pass\n",
        "        \"\"\"\n",
        "\n",
        "        x = x.view(-1, int(self.in_dim))\n",
        "\n",
        "\n",
        "\n",
        "        x = self.fc_layers(x)\n",
        "        mu = self.fc11(x)\n",
        "        log_sigma = self.activation_out(self.fc12(x))\n",
        "        return mu, log_sigma\n",
        "\n",
        "\n",
        "class fcDecoderNet(nn.Module):\n",
        "    \"\"\"\n",
        "    Standard decoder for VAE\n",
        "    \"\"\"\n",
        "    def __init__(self,\n",
        "                 out_dim: Tuple[int],\n",
        "                 latent_dim: int = 4,\n",
        "                 hidden_dim:int = 128,\n",
        "                 num_layers: int = 3,\n",
        "                 activation: str = 'lrelu',\n",
        "                 sigmoid_out: str = True,\n",
        "                 ) -> None:\n",
        "        super(fcDecoderNet, self).__init__()\n",
        "        if len(out_dim) not in [1, 2, 3]:\n",
        "            raise ValueError(\"in_dim must be (h, w), (h, w, c), or (h*w*c,)\")\n",
        "\n",
        "\n",
        "        self.reshape = out_dim\n",
        "        out_dim = torch.prod(tt(out_dim)).item()\n",
        "        self.fc_layers = make_fc_layers(\n",
        "            latent_dim, hidden_dim, num_layers, activation)\n",
        "\n",
        "\n",
        "        out_dim = int(out_dim)\n",
        "\n",
        "\n",
        "        self.out = nn.Linear(hidden_dim, out_dim)\n",
        "\n",
        "        self.activation_out = nn.Sigmoid() if sigmoid_out else lambda x: x\n",
        "\n",
        "    def forward(self, z: torch.Tensor) -> torch.Tensor:\n",
        "        x = self.fc_layers(z)\n",
        "        x = self.activation_out(self.out(x))\n",
        "        return x.view(-1, *self.reshape)\n",
        "\n",
        "\n",
        "class rDecoderNet(nn.Module):\n",
        "    \"\"\"\n",
        "    Spatial generator (decoder) network with fully-connected layers\n",
        "    \"\"\"\n",
        "    def __init__(self,\n",
        "                 out_dim: Tuple[int],\n",
        "                 latent_dim: int,\n",
        "                 hidden_dim:int = 10,\n",
        "                 num_layers: int = 10,\n",
        "                 activation: str = 'lrelu',\n",
        "                 sigmoid_out: str = True\n",
        "                 ) -> None:\n",
        "        \"\"\"\n",
        "        Initializes module parameters\n",
        "        \"\"\"\n",
        "\n",
        "        super(rDecoderNet, self).__init__()\n",
        "        if len(out_dim) not in [1, 2, 3]:\n",
        "            raise ValueError(\"in_dim must be (h, w), (h, w, c), or (h*w*c,)\")\n",
        "        self.reshape = out_dim\n",
        "        out_dim = torch.prod(tt(out_dim)).item()\n",
        "\n",
        "        self.coord_latent = coord_latent(latent_dim, hidden_dim)\n",
        "        self.fc_layers = make_fc_layers(\n",
        "            hidden_dim, hidden_dim, num_layers, activation)\n",
        "\n",
        "        self.out = nn.Linear(hidden_dim, 1) # need to generalize to multi-channel (c > 1)\n",
        "        self.activation_out = nn.Sigmoid() if sigmoid_out else lambda x: x\n",
        "\n",
        "    def forward(self, x_coord: torch.Tensor, z: torch.Tensor) -> torch.Tensor:\n",
        "        \"\"\"\n",
        "        Forward pass\n",
        "        \"\"\"\n",
        "        x = self.coord_latent(x_coord, z)\n",
        "        x = self.fc_layers(x)\n",
        "        x = self.activation_out(self.out(x))\n",
        "        return x.view(-1, *self.reshape)\n",
        "\n",
        "\n",
        "class coord_latent(nn.Module):\n",
        "    \"\"\"\n",
        "    The \"spatial\" part of the rVAE's decoder that allows for translational\n",
        "    and rotational invariance (based on https://arxiv.org/abs/1909.11663)\n",
        "    \"\"\"\n",
        "    def __init__(self,\n",
        "                 latent_dim: int,\n",
        "                 out_dim: int,\n",
        "                 activation_out: bool = True) -> None:\n",
        "        \"\"\"\n",
        "        Iniitalizes modules parameters\n",
        "        \"\"\"\n",
        "        super(coord_latent, self).__init__()\n",
        "        self.fc_coord = nn.Linear(2, out_dim)\n",
        "        self.fc_latent = nn.Linear(latent_dim, out_dim, bias=False)\n",
        "        self.activation = nn.Tanh() if activation_out else None\n",
        "\n",
        "    def forward(self,\n",
        "                x_coord: torch.Tensor,\n",
        "                z: torch.Tensor) -> torch.Tensor:\n",
        "        \"\"\"\n",
        "        Forward pass\n",
        "        \"\"\"\n",
        "        batch_dim, n = x_coord.size()[:2]\n",
        "        x_coord = x_coord.reshape(batch_dim * n, -1)\n",
        "        h_x = self.fc_coord(x_coord)\n",
        "        h_x = h_x.reshape(batch_dim, n, -1)\n",
        "        h_z = self.fc_latent(z)\n",
        "        h = h_x.add(h_z.unsqueeze(1))\n",
        "        h = h.reshape(batch_dim * n, -1)\n",
        "        if self.activation is not None:\n",
        "            h = self.activation(h)\n",
        "        return h"
      ]
    },
    {
      "cell_type": "code",
      "execution_count": 61,
      "metadata": {
        "id": "tk2rYaCFg3rt"
      },
      "outputs": [],
      "source": [
        "#@title Load utility functions for data loading and preprocessing\n",
        "from PIL import Image\n",
        "from torchvision.transforms import ToTensor\n",
        "\n",
        "def get_rotated_mnist(rotation_range: Tuple[int]) -> Tuple[torch.Tensor]:\n",
        "    #!wget www.di.ens.fr/~lelarge/MNIST.tar.gz\n",
        "    #!tar -zxvf MNIST.tar.gz\n",
        "    #mnist_trainset = datasets.MNIST(\n",
        "        #root='.', train=True, download=False, transform=None)\n",
        "    imstack_train_r = torch.zeros_like(train_data, dtype=torch.float32)\n",
        "    labels, angles = [], []\n",
        "    #for i, (im, lbl) in enumerate(tensor_images):\n",
        "    for i, (im, lbl) in enumerate(zip(train_data, train_labels)):\n",
        "        # Converta o tensor para uma imagem PIL\n",
        "        im = ToPILImage()(im)\n",
        "        theta = torch.randint(*rotation_range, (1,)).float()\n",
        "        im = im.rotate(theta.item(), resample=Image.BICUBIC, fillcolor=\"white\")\n",
        "        imstack_train_r[i] = ToTensor()(im)\n",
        "        labels.append(lbl)\n",
        "        angles.append(torch.deg2rad(theta))\n",
        "    imstack_train_r /= imstack_train_r.max()\n",
        "    return imstack_train_r, tt(labels), tt(angles)\n",
        "\n",
        "\n",
        "def init_dataloader(*args: torch.Tensor, **kwargs: int\n",
        "                    ) -> Type[torch.utils.data.DataLoader]:\n",
        "\n",
        "    batch_size = kwargs.get(\"batch_size\", 100)\n",
        "    tensor_set = torch.utils.data.dataset.TensorDataset(*args)\n",
        "    data_loader = torch.utils.data.DataLoader(\n",
        "        dataset=tensor_set, batch_size=batch_size, shuffle=True)\n",
        "    return data_loader"
      ]
    },
    {
      "cell_type": "code",
      "execution_count": 62,
      "metadata": {
        "colab": {
          "base_uri": "https://localhost:8080/"
        },
        "id": "My9Uj3gEIowO",
        "outputId": "16879a80-9bf1-4afb-dc71-e894df5b90e6"
      },
      "outputs": [
        {
          "output_type": "stream",
          "name": "stdout",
          "text": [
            "Drive already mounted at /content/drive; to attempt to forcibly remount, call drive.mount(\"/content/drive\", force_remount=True).\n"
          ]
        }
      ],
      "source": [
        "from google.colab import drive\n",
        "drive.mount('/content/drive')"
      ]
    },
    {
      "cell_type": "markdown",
      "metadata": {
        "id": "W05IQwM9auI7"
      },
      "source": [
        "## Get training data"
      ]
    },
    {
      "cell_type": "code",
      "execution_count": 63,
      "metadata": {
        "id": "M-nR0E5qJZdj",
        "colab": {
          "base_uri": "https://localhost:8080/"
        },
        "outputId": "14cf0626-ffe9-4581-ee77-395c5522a63f"
      },
      "outputs": [
        {
          "output_type": "stream",
          "name": "stdout",
          "text": [
            "Archive:  /content/drive/My Drive/embryos_for_encoder.zip\n"
          ]
        }
      ],
      "source": [
        "\n",
        "!unzip -n /content/drive/My\\ Drive/embryos_for_encoder.zip -d /content/\n",
        "\n"
      ]
    },
    {
      "cell_type": "markdown",
      "metadata": {
        "id": "BiPEbSY_hb-u"
      },
      "source": [
        "Get rotated MNIST data and pass it to dataloader that will be used for (r)VAE training:"
      ]
    },
    {
      "cell_type": "markdown",
      "metadata": {
        "id": "JMivImxxVa80"
      },
      "source": [
        "Plot samples from the rotated MNIST dataset:"
      ]
    },
    {
      "cell_type": "code",
      "execution_count": 64,
      "metadata": {
        "colab": {
          "base_uri": "https://localhost:8080/"
        },
        "id": "zPj7qr8j2gSa",
        "outputId": "294baaa5-c0ce-472b-c7c2-cc2c8066c205"
      },
      "outputs": [
        {
          "output_type": "stream",
          "name": "stdout",
          "text": [
            "torch.Size([2808, 128, 128])\n"
          ]
        }
      ],
      "source": [
        "import os\n",
        "import re\n",
        "import torch\n",
        "from PIL import Image\n",
        "\n",
        "# 1. Percorrer os arquivos .jpg de uma pasta e adicionar os nomes em uma lista\n",
        "folder_path = '/content/embryos_for_encoder'  # Substitua pelo caminho da sua pasta\n",
        "file_list = [os.path.join(folder_path, f) for f in os.listdir(folder_path) if f.endswith('.jpg')]\n",
        "\n",
        "# Mapeamento dos valores\n",
        "#temp_mapping = {\"21\": 0, \"28\": 1, \"35\": 2}\n",
        "\n",
        "# 2. Percorrer a lista de nomes e extrair a informação desejada\n",
        "#pattern = re.compile(r'_(\\d{2})C_')\n",
        "#temperature_list = [temp_mapping[pattern.search(filename).group(1)] for filename in file_list if pattern.search(filename)]\n",
        "\n",
        "\n",
        "# 3. Abrir cada imagem, convertê-la para escala de cinza, redimensioná-la para 56x56 e adicionar a uma lista\n",
        "image_list = [Image.open(filename).convert('L').resize((28, 28)) for filename in file_list]    #28x28\n",
        "\n",
        "# 4. Converter as listas resultantes em tensores do PyTorch\n",
        "tensor_images = torch.stack([torch.tensor(np.array(img)) for img in image_list])\n",
        "#tensor_temperatures = torch.tensor([int(temp) for temp in temperature_list])\n",
        "\n",
        "print(tensor_images.shape)  # Deve ser algo como [número_de_imagens, 56, 56]\n",
        "#print(tensor_temperatures.shape)  # Deve ser algo como [número_de_imagens]\n"
      ]
    },
    {
      "cell_type": "code",
      "source": [
        "#import pandas as pd\n",
        "#/content/embryos_for_encoder/210614110923_OlE_HR_IPF2_BQ_2x_21C_medaka_bpm_out_v1.4_LOOP1_01.jpg"
      ],
      "metadata": {
        "id": "xXF-Tniissmz"
      },
      "execution_count": 65,
      "outputs": []
    },
    {
      "cell_type": "code",
      "execution_count": 66,
      "metadata": {
        "id": "d7d55FnDQNiP"
      },
      "outputs": [],
      "source": [
        "#df_final = pd.read_csv(\"/content/full_data_autoencoder.csv\")"
      ]
    },
    {
      "cell_type": "code",
      "source": [
        "#df_final.loc[df_final[\"experiment_id\"] == \"210614110923_OlE_HR_IPF2_BQ_2x_21C\"]"
      ],
      "metadata": {
        "id": "JEY6AP6CswQ-"
      },
      "execution_count": 67,
      "outputs": []
    },
    {
      "cell_type": "code",
      "source": [],
      "metadata": {
        "id": "eXFOlicUs4w9"
      },
      "execution_count": 67,
      "outputs": []
    },
    {
      "cell_type": "code",
      "source": [
        "import os\n",
        "import pandas as pd\n",
        "import torch\n",
        "\n",
        "# Carrega o DataFrame (assumindo que você já tenha isso)\n",
        "df = pd.read_csv('/content/drive/My Drive/full_data_autoencoder.csv')\n",
        "\n",
        "# Local da pasta que contém os arquivos\n",
        "diretorio = '/content/embryos_for_encoder'\n",
        "\n",
        "# Lista para armazenar os tensores\n",
        "lista_tensores = []\n",
        "\n",
        "for nome_arquivo in os.listdir(diretorio):\n",
        "    if nome_arquivo.endswith('.jpg'):\n",
        "        # Extrai as partes do nome do arquivo\n",
        "        partes = nome_arquivo.split('_')\n",
        "\n",
        "        experiment_id = '_'.join(partes[:partes.index('medaka')])\n",
        "\n",
        "        if \"LOOP1\" in nome_arquivo:\n",
        "            loop = \"LO001\"\n",
        "        elif \"LOOP2\" in nome_arquivo:\n",
        "            loop = \"LO002\"\n",
        "        else:\n",
        "            print(f\"Arquivo {nome_arquivo} não tem LOOP1 ou LOOP2\")\n",
        "            continue\n",
        "\n",
        "        well_id = \"WE000\" + nome_arquivo.split('_')[-1].split('.')[0].zfill(2)\n",
        "\n",
        "        # Filtre o DataFrame\n",
        "        filtro = (df['experiment_id'] == experiment_id) & (df['Loop'] == loop) & (df['WellID'] == well_id)\n",
        "\n",
        "        linha_correspondente = df[filtro]\n",
        "\n",
        "        # Crie um tensor PyTorch com o valor de \"Heart size\" e adicione-o à lista\n",
        "        if not linha_correspondente.empty:\n",
        "            valor = linha_correspondente['Heart size'].iloc[0]\n",
        "            tensor = torch.tensor([valor])\n",
        "            lista_tensores.append(tensor)\n",
        "        else:\n",
        "            print(f\"Nenhuma linha correspondente encontrada para o arquivo {nome_arquivo}\")\n",
        "\n",
        "# Se você quiser criar um tensor único a partir da lista de tensores:\n",
        "tensor_final = torch.cat(lista_tensores)\n",
        "print(tensor_final)\n",
        "\n"
      ],
      "metadata": {
        "colab": {
          "base_uri": "https://localhost:8080/"
        },
        "id": "1Sb3oaVpwd6j",
        "outputId": "42d88659-aa01-425b-958f-7e5a96459ba5"
      },
      "execution_count": 68,
      "outputs": [
        {
          "output_type": "stream",
          "name": "stdout",
          "text": [
            "tensor([8496., 6336.,   nan,  ...,  446., 4210., 5849.], dtype=torch.float64)\n"
          ]
        }
      ]
    },
    {
      "cell_type": "code",
      "source": [
        "#import torch\n",
        "\n",
        "\n",
        "\n",
        "# Defina os limites para as categorias\n",
        "# Supondo que os valores vão de 0 a 5, e você quer dividi-los em 5 classes\n",
        "limites = torch.tensor([2500, 5000, 7500, 10000, 15000])\n",
        "\n",
        "# Use torch.bucketize para categorizar os valores\n",
        "#categorias = torch.bucketize(tensor_final, limites)\n",
        "categorias = tensor_final.clamp(max=10000)\n",
        "\n",
        "categorias[torch.isnan(categorias)] = 0\n",
        "\n",
        "\n",
        "# Transformar NaNs em 0 e todos os outros valores em 1\n",
        "#categorias = torch.where(torch.isnan(categorias), torch.tensor(0.0), torch.tensor(1.0))\n",
        "\n",
        "print(categorias)\n"
      ],
      "metadata": {
        "id": "gFeiAE_2zvlu",
        "colab": {
          "base_uri": "https://localhost:8080/"
        },
        "outputId": "80d0a4ad-f6c4-4c6e-85e2-8b1b777e60e5"
      },
      "execution_count": 69,
      "outputs": [
        {
          "output_type": "stream",
          "name": "stdout",
          "text": [
            "tensor([8496., 6336.,    0.,  ...,  446., 4210., 5849.], dtype=torch.float64)\n"
          ]
        }
      ]
    },
    {
      "cell_type": "code",
      "source": [],
      "metadata": {
        "id": "wrRpSozAcImk"
      },
      "execution_count": 69,
      "outputs": []
    },
    {
      "cell_type": "code",
      "source": [],
      "metadata": {
        "id": "68d4mHgxyCLR"
      },
      "execution_count": 69,
      "outputs": []
    },
    {
      "cell_type": "code",
      "source": [
        "hhhh"
      ],
      "metadata": {
        "colab": {
          "base_uri": "https://localhost:8080/",
          "height": 175
        },
        "id": "HzJSZiKWbcJ_",
        "outputId": "cddc65b5-64eb-411c-d61d-c257b44e8202"
      },
      "execution_count": 70,
      "outputs": [
        {
          "output_type": "error",
          "ename": "NameError",
          "evalue": "ignored",
          "traceback": [
            "\u001b[0;31m---------------------------------------------------------------------------\u001b[0m",
            "\u001b[0;31mNameError\u001b[0m                                 Traceback (most recent call last)",
            "\u001b[0;32m<ipython-input-70-f219dd9235b7>\u001b[0m in \u001b[0;36m<cell line: 1>\u001b[0;34m()\u001b[0m\n\u001b[0;32m----> 1\u001b[0;31m \u001b[0mhhhh\u001b[0m\u001b[0;34m\u001b[0m\u001b[0;34m\u001b[0m\u001b[0m\n\u001b[0m",
            "\u001b[0;31mNameError\u001b[0m: name 'hhhh' is not defined"
          ]
        }
      ]
    },
    {
      "cell_type": "code",
      "source": [],
      "metadata": {
        "id": "zj-hzOLYbcBF"
      },
      "execution_count": null,
      "outputs": []
    },
    {
      "cell_type": "code",
      "source": [],
      "metadata": {
        "id": "3u1Y1-qXdmVg"
      },
      "execution_count": null,
      "outputs": []
    },
    {
      "cell_type": "code",
      "source": [],
      "metadata": {
        "id": "azbUUBD9DhNV"
      },
      "execution_count": null,
      "outputs": []
    },
    {
      "cell_type": "code",
      "source": [
        "# Converta o tensor para numpy para plotagem\n",
        "data_numpy = categorias.numpy()\n",
        "\n",
        "# Plote o histograma\n",
        "plt.hist(data_numpy, bins=20, edgecolor='black')  # você pode ajustar o número de bins conforme necessário\n",
        "plt.title('Histograma dos Valores')\n",
        "plt.xlabel('Valores')\n",
        "plt.ylabel('Frequência')\n",
        "plt.show()"
      ],
      "metadata": {
        "id": "oG10nHA86C2M",
        "colab": {
          "base_uri": "https://localhost:8080/",
          "height": 472
        },
        "outputId": "137eaf07-e124-4488-cefe-4ad36b628b64"
      },
      "execution_count": 71,
      "outputs": [
        {
          "output_type": "display_data",
          "data": {
            "text/plain": [
              "<Figure size 640x480 with 1 Axes>"
            ],
            "image/png": "[encoded data removed]"
          },
          "metadata": {}
        }
      ]
    },
    {
      "cell_type": "code",
      "execution_count": 72,
      "metadata": {
        "id": "9idF69ec5S5F"
      },
      "outputs": [],
      "source": [
        "import torch\n",
        "\n",
        "images_per_class = 100\n",
        "\n",
        "def create_image_array(original_images):\n",
        "    \"\"\"\n",
        "    Esta função seleciona as 4 primeiras imagens de um tensor de imagens e cria um novo tensor\n",
        "    com 250 cópias de cada uma dessas imagens, totalizando 1000 imagens.\n",
        "\n",
        "    :param original_images: Tensor de imagens (onde cada imagem é representada por um sub-tensor)\n",
        "    :return: Novo tensor com 1000 imagens, sendo 250 cópias de cada uma das 4 primeiras imagens do tensor original,\n",
        "             e um tensor de índices indicando a origem de cada imagem.\n",
        "    \"\"\"\n",
        "    # Verifica se o tensor original_images não está vazio e tem pelo menos 4 imagens\n",
        "    if original_images.size(0) < 10:\n",
        "        raise ValueError(\"O tensor de imagens original deve conter pelo menos 4 imagens.\")\n",
        "\n",
        "    # Seleciona as 4 primeiras imagens do tensor original\n",
        "    first_images = original_images[:1000]\n",
        "\n",
        "    # Cria um novo tensor com 250 cópias de cada uma das 4 primeiras imagens\n",
        "    new_images = torch.cat([img.unsqueeze(0).repeat(images_per_class, 1, 1) for img in first_images], dim=0)\n",
        "\n",
        "    # Cria um tensor de índices que indica a qual das 4 imagens originais cada uma das 1000 imagens pertence\n",
        "    indices = torch.arange(50).repeat_interleave(images_per_class)\n",
        "\n",
        "    return new_images, indices\n",
        "\n",
        "new_images, indices = create_image_array(tensor_images) # commented just for tests\n",
        "\n",
        "new_images = tensor_images # just for test\n"
      ]
    },
    {
      "cell_type": "code",
      "execution_count": null,
      "metadata": {
        "id": "Cbq5pav0QXIZ"
      },
      "outputs": [],
      "source": [
        "indices"
      ]
    },
    {
      "cell_type": "code",
      "source": [
        "import torch\n",
        "import matplotlib.pyplot as plt\n",
        "from torchvision.utils import make_grid\n",
        "\n",
        "# Vamos assumir que 'categorias' e 'new_images' são os tensores já definidos anteriormente.\n",
        "\n",
        "# Criar uma máscara para valores que não são 0\n",
        "mask = categorias != 0\n",
        "\n",
        "# Obtenha os índices não-zero do tensor categorias\n",
        "non_zero_indices = torch.nonzero(mask).squeeze()\n",
        "\n",
        "# Use esses índices não-zero para indexar o tensor categorias\n",
        "filtered_values = categorias[non_zero_indices]\n",
        "\n",
        "# Obter os índices dos 100 menores valores do tensor filtrado\n",
        "values, top_indices = torch.topk(filtered_values, 10, largest=False)\n",
        "\n",
        "# Use os índices não-zero originais filtrados por esses 100 menores índices\n",
        "# para obter os índices corretos no tensor original\n",
        "selected_indices = non_zero_indices[top_indices]\n",
        "\n",
        "# Selecionar as imagens correspondentes com base nos índices originais\n",
        "selected_images = new_images[selected_indices]\n",
        "\n",
        "print(selected_indices)\n",
        "\n",
        "top_images = selected_images.unsqueeze(1)  # Adiciona uma dimensão extra para o canal\n",
        "\n",
        "# Exibindo as imagens em uma grade 10x10:\n",
        "grid_img = make_grid(top_images, nrow=10, padding=1)\n",
        "grid_img = grid_img.float() / 255.0\n",
        "\n",
        "plt.figure(figsize=(15, 15))\n",
        "plt.imshow(grid_img.permute(1, 2, 0), cmap='gray')\n",
        "plt.axis('off')\n",
        "plt.show()\n",
        "\n",
        "\n",
        "# menores"
      ],
      "metadata": {
        "colab": {
          "base_uri": "https://localhost:8080/",
          "height": 171
        },
        "id": "Om-9SOsad6fD",
        "outputId": "9c19a709-416f-42e3-d300-ef35759e3a78"
      },
      "execution_count": 73,
      "outputs": [
        {
          "output_type": "stream",
          "name": "stdout",
          "text": [
            "tensor([2347, 2658, 2223, 1860, 2435, 1715,  113,  417,  431, 1285])\n"
          ]
        },
        {
          "output_type": "display_data",
          "data": {
            "text/plain": [
              "<Figure size 1500x1500 with 1 Axes>"
            ],
            "image/png": "[encoded data removed]"
          },
          "metadata": {}
        }
      ]
    },
    {
      "cell_type": "code",
      "source": [
        "import torch\n",
        "import matplotlib.pyplot as plt\n",
        "from torchvision.utils import make_grid\n",
        "\n",
        "# Vamos assumir que 'categorias' e 'new_images' são os tensores já definidos anteriormente.\n",
        "\n",
        "# Criar uma máscara para valores que não são 0\n",
        "mask = categorias != 0\n",
        "\n",
        "# Obtenha os índices não-zero do tensor categorias\n",
        "non_zero_indices = torch.nonzero(mask).squeeze()\n",
        "\n",
        "# Use esses índices não-zero para indexar o tensor categorias\n",
        "filtered_values = categorias[non_zero_indices]\n",
        "\n",
        "# Obter os índices dos 100 menores valores do tensor filtrado\n",
        "values, top_indices = torch.topk(filtered_values, 10, largest=True)\n",
        "\n",
        "# Use os índices não-zero originais filtrados por esses 100 menores índices\n",
        "# para obter os índices corretos no tensor original\n",
        "selected_indices = non_zero_indices[top_indices]\n",
        "\n",
        "print(selected_indices)\n",
        "# Selecionar as imagens correspondentes com base nos índices originais\n",
        "selected_images = new_images[selected_indices]\n",
        "\n",
        "top_images = selected_images.unsqueeze(1)  # Adiciona uma dimensão extra para o canal\n",
        "\n",
        "# Exibindo as imagens em uma grade 10x10:\n",
        "grid_img = make_grid(top_images, nrow=10, padding=1)\n",
        "grid_img = grid_img.float() / 255.0\n",
        "\n",
        "plt.figure(figsize=(15, 15))\n",
        "plt.imshow(grid_img.permute(1, 2, 0), cmap='gray')\n",
        "plt.axis('off')\n",
        "plt.show()\n",
        "\n",
        "\n",
        "# maiores"
      ],
      "metadata": {
        "colab": {
          "base_uri": "https://localhost:8080/",
          "height": 171
        },
        "id": "5vXWJ55je-9x",
        "outputId": "47b4bc3d-9c29-4b96-9722-b7cc96e99515"
      },
      "execution_count": 74,
      "outputs": [
        {
          "output_type": "stream",
          "name": "stdout",
          "text": [
            "tensor([ 67,  21,  30,  94, 141,  95, 144, 180, 145,  16])\n"
          ]
        },
        {
          "output_type": "display_data",
          "data": {
            "text/plain": [
              "<Figure size 1500x1500 with 1 Axes>"
            ],
            "image/png": "[encoded data removed]"
          },
          "metadata": {}
        }
      ]
    },
    {
      "cell_type": "markdown",
      "metadata": {
        "id": "boqLo07EbSoK"
      },
      "source": [
        "## Define model and trainer"
      ]
    },
    {
      "cell_type": "code",
      "source": [
        "import torch\n",
        "import matplotlib.pyplot as plt\n",
        "from torchvision.utils import make_grid\n",
        "\n",
        "# Vamos assumir que 'categorias' e 'new_images' são os tensores já definidos anteriormente.\n",
        "\n",
        "# Criar uma máscara para valores que não são 0\n",
        "mask = categorias == 0\n",
        "\n",
        "# Obtenha os índices não-zero do tensor categorias\n",
        "zero_indices = torch.nonzero(mask).squeeze()\n",
        "\n",
        "# Use esses índices não-zero para indexar o tensor categorias\n",
        "filtered_values = categorias[zero_indices]\n",
        "\n",
        "# Obter os índices dos 100 menores valores do tensor filtrado\n",
        "values, top_indices = torch.topk(filtered_values, 100, largest=True)\n",
        "\n",
        "# Use os índices não-zero originais filtrados por esses 100 menores índices\n",
        "# para obter os índices corretos no tensor original\n",
        "selected_indices = zero_indices[top_indices]\n",
        "\n",
        "# Selecionar as imagens correspondentes com base nos índices originais\n",
        "selected_images = new_images[selected_indices]\n",
        "\n",
        "top_images = selected_images.unsqueeze(1)  # Adiciona uma dimensão extra para o canal\n",
        "\n",
        "# Exibindo as imagens em uma grade 10x10:\n",
        "grid_img = make_grid(top_images, nrow=10, padding=1)\n",
        "grid_img = grid_img.float() / 255.0\n",
        "\n",
        "plt.figure(figsize=(15, 15))\n",
        "plt.imshow(grid_img.permute(1, 2, 0), cmap='gray')\n",
        "plt.axis('off')\n",
        "plt.show()\n",
        "\n",
        "\n",
        "# zero"
      ],
      "metadata": {
        "id": "PrbHOfhcgwaD"
      },
      "execution_count": null,
      "outputs": []
    },
    {
      "cell_type": "code",
      "execution_count": null,
      "metadata": {
        "id": "bR9V_zfxRU0k"
      },
      "outputs": [],
      "source": [
        "plt.imshow(new_images[2], cmap='gray')  # cmap é o mapa de cores, 'gray' é escala de cinza\n",
        "plt.show()"
      ]
    },
    {
      "cell_type": "code",
      "source": [],
      "metadata": {
        "id": "bTsc1pdYhhzk"
      },
      "execution_count": null,
      "outputs": []
    },
    {
      "cell_type": "code",
      "source": [
        "import matplotlib.pyplot as plt\n",
        "import matplotlib.image as mpimg\n",
        "\n",
        "# Defina o caminho da sua imagem\n",
        "image_path = file_list[95]\n",
        "print(file_list[95])\n",
        "\n",
        "# Carregue a imagem\n",
        "img = mpimg.imread(image_path)\n",
        "\n",
        "# Exiba a imagem\n",
        "plt.imshow(img)\n",
        "plt.axis('off')  # Para ocultar os eixos\n",
        "plt.show()\n",
        "\n",
        "\n",
        "import matplotlib.pyplot as plt\n",
        "import matplotlib.image as mpimg\n",
        "\n",
        "# Defina o caminho da sua imagem\n",
        "image_path = file_list[1860]\n",
        "print(file_list[1860])\n",
        "\n",
        "# Carregue a imagem\n",
        "img = mpimg.imread(image_path)\n",
        "\n",
        "# Exiba a imagem\n",
        "plt.imshow(img)\n",
        "plt.axis('off')  # Para ocultar os eixos\n",
        "plt.show()\n",
        "\n",
        "\n",
        "\n"
      ],
      "metadata": {
        "id": "WrbqP3bdhhxA"
      },
      "execution_count": null,
      "outputs": []
    },
    {
      "cell_type": "code",
      "source": [],
      "metadata": {
        "id": "6H2AmwzwhhuE"
      },
      "execution_count": null,
      "outputs": []
    },
    {
      "cell_type": "markdown",
      "metadata": {
        "id": "9p2WCUNmeZjC"
      },
      "source": [
        "Next, we define our rVAE as a probabilistic model. To do this, first, we define our generative model (aka decoder) whose goal is to reconstruct observations (images) from the latent \"code\". Then we write an appropriate *guide* function (aka encoder) whose job is to ‘guess’ good values for the latent random variables. We are also going to add some helper functions to the rVAE class for the encoding of images and visualization of the learned latent manifold so that we do not have to write them over and over again."
      ]
    },
    {
      "cell_type": "code",
      "source": [
        "vvvv"
      ],
      "metadata": {
        "id": "uuLImgy5uWe_"
      },
      "execution_count": null,
      "outputs": []
    },
    {
      "cell_type": "code",
      "execution_count": null,
      "metadata": {
        "id": "8hCbY2fM-xJs"
      },
      "outputs": [],
      "source": [
        "train_data = new_images\n",
        "train_labels = categorias\n"
      ]
    },
    {
      "cell_type": "code",
      "execution_count": null,
      "metadata": {
        "id": "TZlmQW6GQDVc"
      },
      "outputs": [],
      "source": [
        "train_labels\n",
        "train_labels = train_labels.to(dtype=torch.int64)\n"
      ]
    },
    {
      "cell_type": "code",
      "execution_count": null,
      "metadata": {
        "id": "RmJj_MZV-ph-"
      },
      "outputs": [],
      "source": [
        "train_data, train_labels, angles = get_rotated_mnist(rotation_range=[-60, 61])   #-60, 61\n",
        "train_loader = init_dataloader(train_data, batch_size=100)"
      ]
    },
    {
      "cell_type": "code",
      "execution_count": null,
      "metadata": {
        "id": "cCwBTE1xUpPD"
      },
      "outputs": [],
      "source": [
        "import torch\n",
        "from torch import Tensor as tt\n",
        "\n",
        "tensor_val = tt(torch.Size([28, 28]))\n",
        "prod_val = torch.prod(tensor_val)\n"
      ]
    },
    {
      "cell_type": "code",
      "execution_count": null,
      "metadata": {
        "id": "Un3RJSKzrWQ6"
      },
      "outputs": [],
      "source": [
        "class rVAE(nn.Module):\n",
        "    \"\"\"\n",
        "    Variational autoencoder with rotational and/or transaltional invariance\n",
        "    \"\"\"\n",
        "    def __init__(self,\n",
        "                 in_dim: Tuple[int],\n",
        "                 latent_dim: int = 4,\n",
        "                 coord: int = 3,\n",
        "                 num_classes: int = 0,\n",
        "                 hidden_dim_e: int = 128,\n",
        "                 hidden_dim_d: int = 128,\n",
        "                 num_layers_e: int = 2,\n",
        "                 num_layers_d: int = 2,\n",
        "                 activation: str = \"lrelu\",\n",
        "                 softplus_sd: bool = True,\n",
        "                 sigmoid_out: bool = True,\n",
        "                 seed: int = 1,\n",
        "                 **kwargs\n",
        "                 ) -> None:\n",
        "        \"\"\"\n",
        "        Initializes rVAE's modules and parameters\n",
        "        \"\"\"\n",
        "\n",
        "        super(rVAE, self).__init__()\n",
        "        pyro.clear_param_store()\n",
        "        set_deterministic_mode(seed)\n",
        "        self.device = 'cuda' if torch.cuda.is_available() else 'cpu'\n",
        "\n",
        "\n",
        "        self.encoder_net = fcEncoderNet(\n",
        "            in_dim, latent_dim+coord, hidden_dim_e,\n",
        "            num_layers_e, activation, softplus_sd)\n",
        "        if coord not in [0, 1, 2, 3]:\n",
        "            raise ValueError(\"'coord' argument must be 0, 1, 2 or 3\")\n",
        "        dnet = rDecoderNet if coord in [1, 2, 3] else fcDecoderNet\n",
        "\n",
        "\n",
        "        self.decoder_net = dnet(\n",
        "            in_dim, latent_dim+num_classes, hidden_dim_d,\n",
        "            num_layers_d, activation, sigmoid_out)\n",
        "        self.z_dim = latent_dim + coord\n",
        "        self.coord = coord\n",
        "        self.num_classes = num_classes\n",
        "        self.grid = imcoordgrid(in_dim).to(self.device)\n",
        "\n",
        "        #self.dx_prior = tt(kwargs.get(\"dx_prior\", 0.1)).to(self.device)\n",
        "        self.dx_prior = tt([kwargs.get(\"dx_prior\", 0.1)]).to(self.device)\n",
        "\n",
        "\n",
        "\n",
        "        self.to(self.device)\n",
        "\n",
        "\n",
        "    def model(self,\n",
        "              x: torch.Tensor,\n",
        "              y: Optional[torch.Tensor] = None,\n",
        "              **kwargs: float) -> torch.Tensor:\n",
        "        \"\"\"\n",
        "        Defines the model p(x|z)p(z)\n",
        "        \"\"\"\n",
        "        # register PyTorch module `decoder_net` with Pyro\n",
        "        pyro.module(\"decoder_net\", self.decoder_net)\n",
        "        # KLD scale factor (see e.g. https://openreview.net/pdf?id=Sy2fzU9gl)\n",
        "        beta = kwargs.get(\"scale_factor\", 0.1)\n",
        "        #reshape_ = torch.prod(tt(x.shape[1:])).item()\n",
        "        #reshape_ = torch.prod(tt(torch.Size([28, 28])))\n",
        "        reshape_ = x.shape[1:][0] * x.shape[1:][1]\n",
        "\n",
        "        ####################################################\n",
        "\n",
        "        with pyro.plate(\"data\", x.shape[0]):\n",
        "            # setup hyperparameters for prior p(z)\n",
        "            z_loc = x.new_zeros(torch.Size((x.shape[0], self.z_dim)))\n",
        "            z_scale = x.new_ones(torch.Size((x.shape[0], self.z_dim)))\n",
        "            # sample from prior (value will be sampled by guide when computing the ELBO)\n",
        "            with pyro.poutine.scale(scale=beta):\n",
        "                z = pyro.sample(\"latent\", dist.Normal(z_loc, z_scale).to_event(1))\n",
        "            if self.coord > 0:  # rotationally- and/or translationaly-invariant mode\n",
        "                # Split latent variable into parts for rotation\n",
        "                # and/or translation and image content\n",
        "                phi, dx, z = self.split_latent(z)\n",
        "                if torch.sum(dx) != 0:\n",
        "                    dx = (dx * self.dx_prior).unsqueeze(1)\n",
        "                # transform coordinate grid\n",
        "                grid = self.grid.expand(x.shape[0], *self.grid.shape)\n",
        "                x_coord_prime = transform_coordinates(grid, phi, dx)\n",
        "            # Add class label (if any)\n",
        "            if y is not None:\n",
        "                y = to_onehot(y, self.num_classes)\n",
        "                z = torch.cat([z, y], dim=-1)\n",
        "            # decode the latent code z together with the transformed coordiantes (if any)\n",
        "            dec_args = (x_coord_prime, z) if self.coord else (z,)\n",
        "            loc_img = self.decoder_net(*dec_args)\n",
        "            # score against actual images (\"binary cross-entropy loss\")\n",
        "\n",
        "            pyro.sample(\n",
        "                \"obs\", dist.Bernoulli(loc_img.view(-1, int(reshape_)), validate_args=False).to_event(1),\n",
        "                obs=x.view(-1, reshape_))\n",
        "\n",
        "    def guide(self,\n",
        "              x: torch.Tensor,\n",
        "              y: Optional[torch.Tensor] = None,\n",
        "              **kwargs: float) -> torch.Tensor:\n",
        "        \"\"\"\n",
        "        Defines the guide q(z|x)\n",
        "        \"\"\"\n",
        "        # register PyTorch module `encoder_net` with Pyro\n",
        "        pyro.module(\"encoder_net\", self.encoder_net)\n",
        "        # KLD scale factor (see e.g. https://openreview.net/pdf?id=Sy2fzU9gl)\n",
        "        beta = kwargs.get(\"scale_factor\", 0.1)\n",
        "        with pyro.plate(\"data\", x.shape[0]):\n",
        "            # use the encoder to get the parameters used to define q(z|x)\n",
        "            z_loc, z_scale = self.encoder_net(x)\n",
        "            # sample the latent code z\n",
        "            with pyro.poutine.scale(scale=beta):\n",
        "                pyro.sample(\"latent\", dist.Normal(z_loc, z_scale).to_event(1))\n",
        "\n",
        "    def split_latent(self, z: torch.Tensor) -> Tuple[torch.Tensor]:\n",
        "        \"\"\"\n",
        "        Split latent variable into parts for rotation\n",
        "        and/or translation and image content\n",
        "        \"\"\"\n",
        "        phi = torch.tensor(0.0)\n",
        "        dx = torch.tensor(0.0)\n",
        "\n",
        "\n",
        "        # rotation + translation\n",
        "        if self.coord == 3:\n",
        "            phi = z[:, 0]  # encoded angle\n",
        "            dx = z[:, 1:3]  # translation\n",
        "            z = z[:, 3:]  # image content\n",
        "        # translation only\n",
        "        elif self.coord == 2:\n",
        "            dx = z[:, :2]\n",
        "            z = z[:, 2:]\n",
        "        # rotation only\n",
        "        elif self.coord == 1:\n",
        "            phi = z[:, 0]\n",
        "            z = z[:, 1:]\n",
        "        return phi, dx, z\n",
        "\n",
        "    def _encode(self, x_new: torch.Tensor, **kwargs: int) -> torch.Tensor:\n",
        "        \"\"\"\n",
        "        Encodes data using a trained inference (encoder) network\n",
        "        in a batch-by-batch fashion\n",
        "        \"\"\"\n",
        "        def inference() -> np.ndarray:\n",
        "            with torch.no_grad():\n",
        "                encoded = self.encoder_net(x_i)\n",
        "                print(\"encoded\")\n",
        "                print(encoded)\n",
        "            encoded = torch.cat(encoded, -1).cpu()\n",
        "            print(\"the encoded\")\n",
        "            print(encoded.shape)\n",
        "            return encoded\n",
        "\n",
        "        x_new = x_new.to(self.device)\n",
        "        num_batches = kwargs.get(\"num_batches\", 10)\n",
        "        batch_size = len(x_new) // num_batches\n",
        "        z_encoded = []\n",
        "        for i in range(num_batches):\n",
        "            x_i = x_new[i*batch_size:(i+1)*batch_size]\n",
        "            z_encoded_i = inference()\n",
        "            z_encoded.append(z_encoded_i)\n",
        "        x_i = x_new[(i+1)*batch_size:]\n",
        "        if len(x_i) > 0:\n",
        "            z_encoded_i = inference()\n",
        "            z_encoded.append(z_encoded_i)\n",
        "            conc = torch.cat(z_encoded)\n",
        "            print(\"the shaaaape\")\n",
        "            print(conc.shape)\n",
        "        return conc\n",
        "\n",
        "    def encode(self, x_new: torch.Tensor, **kwargs: int) -> torch.Tensor:\n",
        "        \"\"\"\n",
        "        Encodes data using a trained inference (encoder) network\n",
        "        (this is baiscally a wrapper for self._encode)\n",
        "        \"\"\"\n",
        "        if isinstance(x_new, torch.utils.data.DataLoader):\n",
        "            x_new = train_loader.dataset.tensors[0]\n",
        "        z = self._encode(x_new)\n",
        "\n",
        "\n",
        "        print(\"the zzzzzzzzz\")\n",
        "        print(z.shape)\n",
        "        z_loc = z[:, :self.z_dim]\n",
        "        z_scale = z[:, self.z_dim:]\n",
        "        return z_loc, z_scale\n",
        "\n",
        "    def manifold2d(self, d: int, **kwargs: Union[str, int]) -> torch.Tensor:\n",
        "        \"\"\"\n",
        "        Plots a learned latent manifold in the image space\n",
        "        \"\"\"\n",
        "        print(\"manifold2d\")\n",
        "        print(print(kwargs))\n",
        "        print(\"n classes\")\n",
        "        print(self.num_classes)\n",
        "        if self.num_classes > 0:\n",
        "            #cls = tt(kwargs.get(\"label\", 0))\n",
        "            cls = torch.tensor(kwargs.get(\"label\", 0))\n",
        "\n",
        "\n",
        "\n",
        "            print(\"the cls\")\n",
        "            print(cls)\n",
        "            cls = to_onehot(cls.unsqueeze(0), self.num_classes)\n",
        "            print(cls)\n",
        "        grid_x = norm.ppf(torch.linspace(0.95, 0.05, d))\n",
        "        grid_y = norm.ppf(torch.linspace(0.05, 0.95, d))\n",
        "        print(\"point 100\")\n",
        "        loc_img_all = []\n",
        "        for i, xi in enumerate(grid_x):\n",
        "            for j, yi in enumerate(grid_y):\n",
        "                z_sample = tt([xi, yi]).float().to(self.device).unsqueeze(0)\n",
        "                if self.num_classes > 0:\n",
        "                    z_sample = torch.cat([z_sample, cls], dim=-1)\n",
        "                d_args = (self.grid.unsqueeze(0), z_sample) if self.coord > 0 else (z_sample,)\n",
        "                loc_img = self.decoder_net(*d_args)\n",
        "                loc_img_all.append(loc_img.detach().cpu())\n",
        "        loc_img_all = torch.cat(loc_img_all)\n",
        "\n",
        "        grid = make_grid(loc_img_all[:, None], nrow=d,\n",
        "                         padding=kwargs.get(\"padding\", 2),\n",
        "                         pad_value=kwargs.get(\"pad_value\", 0))\n",
        "        plt.figure(figsize=(8, 8))\n",
        "        plt.imshow(grid[0], cmap=kwargs.get(\"cmap\", \"gnuplot\"),\n",
        "                   origin=kwargs.get(\"origin\", \"upper\"),\n",
        "                   extent=[grid_x.min(), grid_x.max(), grid_y.min(), grid_y.max()])\n",
        "        plt.xticks(fontsize=14)\n",
        "        plt.yticks(fontsize=14)\n",
        "        plt.xlabel(\"$z_1$\", fontsize=18)\n",
        "        plt.ylabel(\"$z_2$\", fontsize=18)\n",
        "        plt.show()\n",
        "\n",
        "        import random\n",
        "\n",
        "    def manifold2d_diff(self, d: int, train_data_latent, train_data, **kwargs: Union[str, int]) -> torch.Tensor:\n",
        "\n",
        "        print(\"manifold2d\")\n",
        "        print(print(kwargs))\n",
        "        print(\"n classes\")\n",
        "        print(self.num_classes)\n",
        "\n",
        "        if self.num_classes > 0:\n",
        "            cls = torch.tensor(kwargs.get(\"label\", 0))\n",
        "            cls = to_onehot(cls.unsqueeze(0), self.num_classes)\n",
        "            print(\"the cls\")\n",
        "            print(cls)\n",
        "\n",
        "        grid_x = norm.ppf(torch.linspace(0.95, 0.05, d))\n",
        "        grid_y = norm.ppf(torch.linspace(0.05, 0.95, d))\n",
        "        print(\"point 100\")\n",
        "\n",
        "        loc_img_all = []\n",
        "        nearest_train_imgs = []\n",
        "\n",
        "        for i, xi in enumerate(grid_x):\n",
        "            for j, yi in enumerate(grid_y):\n",
        "                z_sample = tt([xi, yi]).float().to(self.device).unsqueeze(0)\n",
        "\n",
        "                if self.num_classes > 0:\n",
        "                    z_sample = torch.cat([z_sample, cls], dim=-1)\n",
        "\n",
        "                d_args = (self.grid.unsqueeze(0), z_sample) if self.coord > 0 else (z_sample,)\n",
        "                loc_img = self.decoder_net(*d_args)\n",
        "                loc_img_all.append(loc_img.detach().cpu())\n",
        "\n",
        "                # Encontre a imagem de treino mais próxima\n",
        "                z_sample_rep = z_sample.repeat(len(train_data_latent), 1)\n",
        "\n",
        "                train_data_latent = train_data_latent.to('cuda:0')\n",
        "                z_sample_rep = z_sample_rep.to('cuda:0')\n",
        "\n",
        "\n",
        "                distances = torch.norm(train_data_latent - z_sample_rep, dim=1)\n",
        "                nearest_idx = torch.argmin(distances)\n",
        "                nearest_train_imgs.append(train_data[nearest_idx])\n",
        "\n",
        "        nearest_train_imgs = torch.stack(nearest_train_imgs)\n",
        "        loc_img_all = torch.cat(loc_img_all)\n",
        "\n",
        "        # Plot das imagens geradas\n",
        "        grid_gen = make_grid(loc_img_all[:, None], nrow=d, padding=kwargs.get(\"padding\", 2), pad_value=kwargs.get(\"pad_value\", 0))\n",
        "        # Plot das imagens de treino mais próximas\n",
        "        grid_train = make_grid(nearest_train_imgs[:, None], nrow=d, padding=kwargs.get(\"padding\", 2), pad_value=kwargs.get(\"pad_value\", 0))\n",
        "\n",
        "        # Mostre as duas grids lado a lado\n",
        "        fig, axes = plt.subplots(1, 2, figsize=(16, 8))\n",
        "        axes[0].imshow(grid_gen[0], cmap=kwargs.get(\"cmap\", \"gnuplot\"), origin=kwargs.get(\"origin\", \"upper\"), extent=[grid_x.min(), grid_x.max(), grid_y.min(), grid_y.max()])\n",
        "        axes[1].imshow(grid_train[0], cmap=kwargs.get(\"cmap\", \"gnuplot\"), origin=kwargs.get(\"origin\", \"upper\"), extent=[grid_x.min(), grid_x.max(), grid_y.min(), grid_y.max()])\n",
        "        plt.show()\n",
        "\n",
        "        return grid_gen, grid_train\n",
        "\n",
        "\n",
        "\n",
        "\n",
        "    def random_samples_from_latent(self, num_samples: int, **kwargs: Union[str, int]) -> torch.Tensor:\n",
        "        \"\"\"\n",
        "        Generate and visualize reconstructions from random samples in the 3D latent space.\n",
        "        \"\"\"\n",
        "\n",
        "        loc_img_all = []\n",
        "\n",
        "        # Amostragem aleatória de num_samples pontos no espaço latente 3D\n",
        "        for _ in range(num_samples):\n",
        "            xi, yi, zi = [norm.ppf(random.random()) for _ in range(3)]\n",
        "            z_sample = tt([xi, yi, zi]).float().to(self.device).unsqueeze(0)\n",
        "\n",
        "            if self.num_classes > 0:\n",
        "                z_sample = torch.cat([z_sample, cls], dim=-1)\n",
        "\n",
        "            d_args = (self.grid.unsqueeze(0), z_sample) if self.coord > 0 else (z_sample,)\n",
        "            loc_img = self.decoder_net(*d_args)\n",
        "            loc_img_all.append(loc_img.detach().cpu())\n",
        "\n",
        "        loc_img_all = torch.cat(loc_img_all)\n",
        "        grid = make_grid(loc_img_all[:, None], nrow=int(num_samples**0.5),\n",
        "                        padding=kwargs.get(\"padding\", 2),\n",
        "                        pad_value=kwargs.get(\"pad_value\", 0))\n",
        "\n",
        "        plt.figure(figsize=(10, 10))\n",
        "        plt.imshow(grid[0], cmap=kwargs.get(\"cmap\", \"gnuplot\"))\n",
        "        plt.axis('off')\n",
        "        plt.show()\n",
        "\n"
      ]
    },
    {
      "cell_type": "markdown",
      "metadata": {
        "id": "6Yqf4jdQf9u1"
      },
      "source": [
        "We also define a stochastic variational inference (SVI) trainer for model training and evaluation:"
      ]
    },
    {
      "cell_type": "code",
      "execution_count": null,
      "metadata": {
        "id": "gDRK73enf9DX"
      },
      "outputs": [],
      "source": [
        "class SVItrainer:\n",
        "    \"\"\"\n",
        "    Stochastic variational inference (SVI) trainer for\n",
        "    unsupervised and class-conditioned variational models\n",
        "    \"\"\"\n",
        "    def __init__(self,\n",
        "                 model: Type[nn.Module],\n",
        "                 optimizer: Type[optim.PyroOptim] = None,\n",
        "                 loss: Type[infer.ELBO] = None,\n",
        "                 seed: int = 1\n",
        "                 ) -> None:\n",
        "        \"\"\"\n",
        "        Initializes the trainer's parameters\n",
        "        \"\"\"\n",
        "        pyro.clear_param_store()\n",
        "        set_deterministic_mode(seed)\n",
        "        self.device = 'cuda' if torch.cuda.is_available() else 'cpu'\n",
        "        if optimizer is None:\n",
        "            optimizer = optim.Adam({\"lr\": 1.0e-3})\n",
        "        if loss is None:\n",
        "            loss = infer.Trace_ELBO()\n",
        "        self.svi = infer.SVI(model.model, model.guide, optimizer, loss=loss)\n",
        "        self.loss_history = {\"training_loss\": [], \"test_loss\": []}\n",
        "        self.current_epoch = 0\n",
        "\n",
        "    def train(self,\n",
        "              train_loader: Type[torch.utils.data.DataLoader],\n",
        "              **kwargs: float) -> float:\n",
        "        \"\"\"\n",
        "        Trains a single epoch\n",
        "        \"\"\"\n",
        "        # initialize loss accumulator\n",
        "        epoch_loss = 0.\n",
        "        # do a training epoch over each mini-batch returned by the data loader\n",
        "        for data in train_loader:\n",
        "            if len(data) == 1:  # VAE mode\n",
        "                x = data[0]\n",
        "                loss = self.svi.step(x.to(self.device), **kwargs)\n",
        "            else:  # VED or cVAE mode\n",
        "                x, y = data\n",
        "                loss = self.svi.step(\n",
        "                    x.to(self.device), y.to(self.device), **kwargs)\n",
        "            # do ELBO gradient and accumulate loss\n",
        "            epoch_loss += loss\n",
        "\n",
        "        return epoch_loss / len(train_loader.dataset)\n",
        "\n",
        "    def evaluate(self,\n",
        "                 test_loader: Type[torch.utils.data.DataLoader],\n",
        "                 **kwargs: float) -> float:\n",
        "        \"\"\"\n",
        "        Evaluates current models state on a single epoch\n",
        "        \"\"\"\n",
        "        # initialize loss accumulator\n",
        "        test_loss = 0.\n",
        "        # compute the loss over the entire test set\n",
        "        with torch.no_grad():\n",
        "            for data in test_loader:\n",
        "                if len(data) == 1:  # VAE mode\n",
        "                    x = data[0]\n",
        "                    loss = self.svi.step(x.to(self.device), **kwargs)\n",
        "                else:  # VED or cVAE mode\n",
        "                    x, y = data\n",
        "                    loss = self.svi.step(\n",
        "                        x.to(self.device), y.to(self.device), **kwargs)\n",
        "                test_loss += loss\n",
        "\n",
        "        return test_loss / len(test_loader.dataset)\n",
        "\n",
        "    def step(self,\n",
        "             train_loader: Type[torch.utils.data.DataLoader],\n",
        "             test_loader: Optional[Type[torch.utils.data.DataLoader]] = None,\n",
        "             **kwargs: float) -> None:\n",
        "        \"\"\"\n",
        "        Single training and (optionally) evaluation step\n",
        "        \"\"\"\n",
        "        self.loss_history[\"training_loss\"].append(self.train(train_loader,**kwargs))\n",
        "        if test_loader is not None:\n",
        "            self.loss_history[\"test_loss\"].append(self.evaluate(test_loader,**kwargs))\n",
        "        self.current_epoch += 1\n",
        "\n",
        "    def print_statistics(self) -> None:\n",
        "        \"\"\"\n",
        "        Prints training and test (if any) losses for current epoch\n",
        "        \"\"\"\n",
        "        e = self.current_epoch\n",
        "        if len(self.loss_history[\"test_loss\"]) > 0:\n",
        "            template = 'Epoch: {} Training loss: {:.4f}, Test loss: {:.4f}'\n",
        "            print(template.format(e, self.loss_history[\"training_loss\"][-1],\n",
        "                                  self.loss_history[\"test_loss\"][-1]))\n",
        "        else:\n",
        "            template = 'Epoch: {} Training loss: {:.4f}'\n",
        "            print(template.format(e, self.loss_history[\"training_loss\"][-1]))\n"
      ]
    },
    {
      "cell_type": "markdown",
      "source": [
        "## **Verify original images**"
      ],
      "metadata": {
        "id": "t474VFwCbRXd"
      }
    },
    {
      "cell_type": "code",
      "source": [
        "import torch\n",
        "import matplotlib.pyplot as plt\n",
        "import numpy as np\n",
        "\n",
        "def plot_tensor_images(tensor_images, num_images=64):\n",
        "    \"\"\"\n",
        "    Função para plotar imagens a partir de um tensor do PyTorch.\n",
        "\n",
        "    Argumentos:\n",
        "    - tensor_images (torch.Tensor): Tensor de imagens no formato [N, H, W].\n",
        "    - num_images (int): Número de imagens para plotar.\n",
        "\n",
        "    \"\"\"\n",
        "    # Verifica se o tensor_images está no formato adequado\n",
        "    if len(tensor_images.shape) != 3:\n",
        "        raise ValueError(\"O tensor deve ter o formato [N, H, W].\")\n",
        "\n",
        "    N, H, W = tensor_images.shape\n",
        "\n",
        "    # Cria um grid para exibir as imagens\n",
        "    grid_size = int(np.sqrt(num_images))\n",
        "    fig, axs = plt.subplots(grid_size, grid_size, figsize=(6, 6))\n",
        "\n",
        "    for i in range(grid_size * grid_size):\n",
        "        ax = axs[i // grid_size, i % grid_size]\n",
        "        # Transforma o tensor em numpy\n",
        "        img_np = tensor_images[i].cpu().numpy()\n",
        "        ax.imshow(img_np, cmap='gray')\n",
        "        ax.axis('off')\n",
        "\n",
        "    plt.tight_layout()\n",
        "    plt.show()\n",
        "\n",
        "# Exemplo de uso:\n",
        "# Cria um tensor fictício de 2808 imagens grayscale 28x28\n",
        "sample_tensor = torch.randn(2808, 28, 28)\n",
        "\n",
        "# Plotando as primeiras 64 imagens\n",
        "plot_tensor_images(tensor_images)"
      ],
      "metadata": {
        "id": "MSMPghVnbOc7"
      },
      "execution_count": null,
      "outputs": []
    },
    {
      "cell_type": "markdown",
      "metadata": {
        "id": "No3vF3ejbbyY"
      },
      "source": [
        "## Train different VAE models"
      ]
    },
    {
      "cell_type": "markdown",
      "metadata": {
        "id": "e66N19M-bYnp"
      },
      "source": [
        "### Train vanilla VAE"
      ]
    },
    {
      "cell_type": "code",
      "source": [
        "\n"
      ],
      "metadata": {
        "id": "pAf4C1WgArlR"
      },
      "execution_count": null,
      "outputs": []
    },
    {
      "cell_type": "code",
      "source": [
        "hhh"
      ],
      "metadata": {
        "id": "wjRyl1ctcVj6"
      },
      "execution_count": null,
      "outputs": []
    },
    {
      "cell_type": "markdown",
      "metadata": {
        "id": "C_m27YqwcAMN"
      },
      "source": [
        "Train VAE model:"
      ]
    },
    {
      "cell_type": "code",
      "source": [
        "train_loader = init_dataloader(train_data, batch_size=100)"
      ],
      "metadata": {
        "id": "uUrXa2jmOyRq"
      },
      "execution_count": null,
      "outputs": []
    },
    {
      "cell_type": "code",
      "execution_count": null,
      "metadata": {
        "id": "oXgx9CRgHGJ_"
      },
      "outputs": [],
      "source": [
        "in_dim = (28, 28)\n",
        "\n",
        "# Initialize probabilistic VAE model ->\n",
        "# (coord=0: vanilla VAE\n",
        "#  coord=1: rotations only\n",
        "#  coord=2: translations only\n",
        "#  coord=3: rotations+translations)\n",
        "vae = rVAE(in_dim, latent_dim=2, coord=0, seed=0)\n",
        "\n",
        "# Initialize SVI trainer\n",
        "trainer = SVItrainer(vae)\n",
        "# Train for n epochs:\n",
        "for e in range(2000):\n",
        "    trainer.step(train_loader)\n",
        "    trainer.print_statistics()"
      ]
    },
    {
      "cell_type": "markdown",
      "metadata": {
        "id": "TbgG4fYdblMi"
      },
      "source": [
        "Visualize the learned manifold:"
      ]
    },
    {
      "cell_type": "code",
      "source": [
        "fff"
      ],
      "metadata": {
        "id": "GLdQ0Yz-4lJL"
      },
      "execution_count": null,
      "outputs": []
    },
    {
      "cell_type": "code",
      "execution_count": null,
      "metadata": {
        "id": "fCYfTsPqtJhk"
      },
      "outputs": [],
      "source": [
        "vae.manifold2d(d=20, cmap='gray')"
      ]
    },
    {
      "cell_type": "markdown",
      "metadata": {
        "id": "ykcOs23ZboaQ"
      },
      "source": [
        "Encode all the data and view the encoded values as a scatter plot:\n",
        "\n",
        "(note that we adjusted the orientations of the scatter plots and the manifold image such that digits look normal (and not upside down) to a human eye)"
      ]
    },
    {
      "cell_type": "code",
      "execution_count": null,
      "metadata": {
        "id": "bUaabSboz6jh"
      },
      "outputs": [],
      "source": [
        "z_mean, z_sd = vae.encode(train_data)\n",
        "fig, (ax1, ax2) = plt.subplots(1, 2, figsize =(15, 6))\n",
        "im1 = ax1.scatter(z_mean[:,1], z_mean[:,0], c=angles, s=1, cmap='gnuplot2')\n",
        "ax1.set_xlabel(\"$z_1$\", fontsize=14)\n",
        "ax1.set_ylabel(\"$z_2$\", fontsize=14)\n",
        "cbar1 = fig.colorbar(im1, ax=ax1, shrink=.8)\n",
        "cbar1.set_label(\"Angles (rad)\", fontsize=14)\n",
        "cbar1.ax.tick_params(labelsize=10)\n",
        "im2 = ax2.scatter(z_mean[:,1], z_mean[:,0], c=train_labels, s=1, cmap='jet')\n",
        "ax2.set_xlabel(\"$z_1$\", fontsize=14)\n",
        "ax2.set_ylabel(\"$z_2$\", fontsize=14)\n",
        "cbar2 = fig.colorbar(im2, ax=ax2, shrink=.8)\n",
        "cbar2.set_label(\"Labels\", fontsize=14)\n",
        "cbar2.ax.tick_params(labelsize=10);"
      ]
    },
    {
      "cell_type": "markdown",
      "metadata": {
        "id": "hGmIJCaU5mUo"
      },
      "source": [
        "### Train class-conditioned VAE (cVAE)"
      ]
    },
    {
      "cell_type": "markdown",
      "metadata": {
        "id": "XtvsJUJmbyLa"
      },
      "source": [
        "Reinitalize dataloader, now with labels for each training sample:"
      ]
    },
    {
      "cell_type": "code",
      "source": [
        "import random\n"
      ],
      "metadata": {
        "id": "RqaxYj95Lt-c"
      },
      "execution_count": null,
      "outputs": []
    },
    {
      "cell_type": "code",
      "source": [],
      "metadata": {
        "id": "k4mBI5_Pb2cY"
      },
      "execution_count": null,
      "outputs": []
    },
    {
      "cell_type": "code",
      "source": [
        "vae.random_samples_from_latent(num_samples=30, d=10, cmap='gray')"
      ],
      "metadata": {
        "id": "tZdVrD9Ob2Zk"
      },
      "execution_count": null,
      "outputs": []
    },
    {
      "cell_type": "code",
      "source": [],
      "metadata": {
        "id": "vceZM9vyb2XH"
      },
      "execution_count": null,
      "outputs": []
    },
    {
      "cell_type": "code",
      "source": [],
      "metadata": {
        "id": "X1aK19PCb2Uo"
      },
      "execution_count": null,
      "outputs": []
    },
    {
      "cell_type": "code",
      "source": [],
      "metadata": {
        "id": "7hjKbHEjb2ST"
      },
      "execution_count": null,
      "outputs": []
    },
    {
      "cell_type": "code",
      "source": [],
      "metadata": {
        "id": "0EoSkI3pb2PR"
      },
      "execution_count": null,
      "outputs": []
    },
    {
      "cell_type": "code",
      "execution_count": null,
      "metadata": {
        "id": "GDT6qY8j5Bft"
      },
      "outputs": [],
      "source": [
        "train_loader = init_dataloader(train_data, train_labels, batch_size=100)"
      ]
    },
    {
      "cell_type": "markdown",
      "metadata": {
        "id": "JkBoNz1hb7tP"
      },
      "source": [
        "Train cVAE model:"
      ]
    },
    {
      "cell_type": "code",
      "execution_count": null,
      "metadata": {
        "id": "z0KsEusv0SCP"
      },
      "outputs": [],
      "source": [
        "in_dim = (28, 28)\n",
        "\n",
        "# Initialize probabilistic VAE model ->\n",
        "# (coord=0: vanilla VAE\n",
        "#  coord=1: rotations only\n",
        "#  coord=2: translations only\n",
        "#  coord=3: rotations+translations)\n",
        "cvae = rVAE(in_dim, latent_dim=4, num_classes=10, coord=0, seed=0)\n",
        "# Initialize SVI trainer\n",
        "trainer = SVItrainer(cvae)\n",
        "\n",
        "\n",
        "# Train for n epochs:\n",
        "for e in range(2000):\n",
        "    trainer.step(train_loader)\n",
        "    trainer.print_statistics()"
      ]
    },
    {
      "cell_type": "markdown",
      "metadata": {
        "id": "Cp2lxfD7cFDL"
      },
      "source": [
        "View the learned manifolds for each class:"
      ]
    },
    {
      "cell_type": "code",
      "execution_count": null,
      "metadata": {
        "id": "n6y9Q_Xa0SE5"
      },
      "outputs": [],
      "source": [
        "for i in range(5):\n",
        "    cvae.manifold2d(d=6, label=i, cmap='gray')"
      ]
    },
    {
      "cell_type": "markdown",
      "metadata": {
        "id": "oiYXRkZFcKOe"
      },
      "source": [
        "Encode all the data and view the encoded values as a scatter plot:"
      ]
    },
    {
      "cell_type": "code",
      "execution_count": null,
      "metadata": {
        "id": "FhrUavYb7Y8x"
      },
      "outputs": [],
      "source": [
        "z_mean, z_sd = cvae.encode(train_data)\n",
        "fig, (ax1, ax2) = plt.subplots(1, 2, figsize =(15, 6))\n",
        "im1 = ax1.scatter(z_mean[:,1], z_mean[:,0], c=angles, s=1, cmap='gnuplot2')\n",
        "ax1.set_xlabel(\"$z_1$\", fontsize=14)\n",
        "ax1.set_ylabel(\"$z_2$\", fontsize=14)\n",
        "cbar1 = fig.colorbar(im1, ax=ax1, shrink=.8)\n",
        "cbar1.set_label(\"Angles (rad)\", fontsize=14)\n",
        "cbar1.ax.tick_params(labelsize=10)\n",
        "im2 = ax2.scatter(z_mean[:,1], z_mean[:,0], c=train_labels, s=1, cmap='jet')\n",
        "ax2.set_xlabel(\"$z_1$\", fontsize=14)\n",
        "ax2.set_ylabel(\"$z_2$\", fontsize=14)\n",
        "cbar2 = fig.colorbar(im2, ax=ax2, shrink=.8)\n",
        "cbar2.set_label(\"Labels\", fontsize=14)\n",
        "cbar2.ax.tick_params(labelsize=10);"
      ]
    },
    {
      "cell_type": "markdown",
      "metadata": {
        "id": "EcjW5x-ofXsh"
      },
      "source": [
        "### Train rotationally-invariant VAE (rVAE)"
      ]
    },
    {
      "cell_type": "markdown",
      "metadata": {
        "id": "dcHx8il4fK9K"
      },
      "source": [
        "Re-initialize dataloader:"
      ]
    },
    {
      "cell_type": "code",
      "execution_count": null,
      "metadata": {
        "id": "Z4zV_0Vy9Xom"
      },
      "outputs": [],
      "source": [
        "train_loader = init_dataloader(train_data, batch_size=100)"
      ]
    },
    {
      "cell_type": "code",
      "source": [
        "###################################################################################################"
      ],
      "metadata": {
        "id": "3arb6hkZTWmo"
      },
      "execution_count": null,
      "outputs": []
    },
    {
      "cell_type": "markdown",
      "metadata": {
        "id": "j11YPu2VfjUy"
      },
      "source": [
        "Train rVAE:"
      ]
    },
    {
      "cell_type": "code",
      "execution_count": null,
      "metadata": {
        "id": "rKwwe4ov9MK2"
      },
      "outputs": [],
      "source": [
        "in_dim = (28, 28)\n",
        "\n",
        "# Initialize probabilistic VAE model ->\n",
        "# (coord=0: vanilla VAE\n",
        "#  coord=1: rotations only\n",
        "#  coord=2: translations only\n",
        "#  coord=3: rotations+translations)\n",
        "rvae = rVAE(in_dim, latent_dim=2, coord=1, seed=0)\n",
        "\n",
        "# Initialize SVI trainer\n",
        "trainer = SVItrainer(rvae)\n",
        "# Train for n epochs:\n",
        "for e in range(2000):\n",
        "    # Scale factor balances the qualitiy of reconstruction with the quality of disentanglement\n",
        "    # It is optional, and the rvae will also work without it\n",
        "    trainer.step(train_loader)\n",
        "    trainer.print_statistics()"
      ]
    },
    {
      "cell_type": "markdown",
      "metadata": {
        "id": "j8sVzi74fH-G"
      },
      "source": [
        "View the learned manifold:"
      ]
    },
    {
      "cell_type": "code",
      "source": [
        "#rvae.random_samples_from_latent(num_samples=25, d=3, cmap='gray')"
      ],
      "metadata": {
        "id": "VdFzarRpmEst"
      },
      "execution_count": null,
      "outputs": []
    },
    {
      "cell_type": "code",
      "source": [
        "train_data.shape"
      ],
      "metadata": {
        "id": "zVUfpwJgN3qz"
      },
      "execution_count": null,
      "outputs": []
    },
    {
      "cell_type": "code",
      "source": [
        "train_data.shape"
      ],
      "metadata": {
        "id": "Z-fv9P2QsCFw"
      },
      "execution_count": null,
      "outputs": []
    },
    {
      "cell_type": "code",
      "source": [
        "z_mean, _ = rvae.encode(train_data)\n",
        "z_mean = z_mean[:, 1:]\n",
        "\n"
      ],
      "metadata": {
        "id": "LWskaXyblOxQ"
      },
      "execution_count": null,
      "outputs": []
    },
    {
      "cell_type": "code",
      "source": [
        "z_mean.shape\n",
        "\n"
      ],
      "metadata": {
        "id": "iU7MidQLp395"
      },
      "execution_count": null,
      "outputs": []
    },
    {
      "cell_type": "code",
      "source": [
        "#    def manifold2d_diff(self, d: int, train_data_latent, train_data, **kwargs: Union[str, int]) -> torch.Tensor:\n"
      ],
      "metadata": {
        "id": "zJ_JS_cXTpaS"
      },
      "execution_count": null,
      "outputs": []
    },
    {
      "cell_type": "code",
      "source": [
        "import torch\n",
        "import torch.nn.functional as F\n",
        "import math\n",
        "\n",
        "# Função para criar uma matriz de rotação 2D\n",
        "def get_rotation_matrix(theta):\n",
        "    cos_theta = torch.cos(theta)\n",
        "    sin_theta = torch.sin(theta)\n",
        "\n",
        "    # Criando a matriz de rotação para cada ângulo no tensor theta\n",
        "    rotation_matrices = torch.stack([\n",
        "        cos_theta, -sin_theta, torch.zeros_like(theta),\n",
        "        sin_theta, cos_theta, torch.zeros_like(theta)\n",
        "    ], dim=1).reshape(-1, 2, 3)\n",
        "\n",
        "    return rotation_matrices\n",
        "\n",
        "# Função para aplicar rotação a um batch de imagens\n",
        "\n",
        "def rotate_images(images, angles):\n",
        "    # Convertendo as imagens para float, se necessário\n",
        "    images = images.float()\n",
        "\n",
        "    # Ajustando as dimensões das imagens, se necessário\n",
        "    if len(images.shape) == 3:\n",
        "        images = images.unsqueeze(1)\n",
        "\n",
        "    # Calculando a matriz de rotação\n",
        "    rotation_matrices = get_rotation_matrix(angles).to(images.device)\n",
        "\n",
        "    # Criando a grid para aplicar a transformação\n",
        "    grid = F.affine_grid(rotation_matrices, images.size())\n",
        "\n",
        "    # Aplicando a rotação\n",
        "    rotated_images = F.grid_sample(images, grid)\n",
        "\n",
        "    return rotated_images\n",
        "\n",
        "\n",
        "\n",
        "images = tensor_images\n",
        "angles = z_mean[:, 0]\n",
        "\n",
        "rotated_images = rotate_images(images, angles)\n"
      ],
      "metadata": {
        "id": "prpZwslf7JHX"
      },
      "execution_count": null,
      "outputs": []
    },
    {
      "cell_type": "code",
      "source": [
        "rotated_images = rotated_images.squeeze(1)\n"
      ],
      "metadata": {
        "id": "eYwfmdq48OLB"
      },
      "execution_count": null,
      "outputs": []
    },
    {
      "cell_type": "code",
      "source": [
        "rotated_images.shape"
      ],
      "metadata": {
        "id": "KrZy5IDj81bt"
      },
      "execution_count": null,
      "outputs": []
    },
    {
      "cell_type": "code",
      "execution_count": null,
      "metadata": {
        "id": "7Un0mjAb7ZAE"
      },
      "outputs": [],
      "source": [
        "rvae.manifold2d_diff(5, z_mean, rotated_images, cmap=\"gray\")"
      ]
    },
    {
      "cell_type": "markdown",
      "metadata": {
        "id": "4iYGgJ5zclHn"
      },
      "source": [
        "Encode all the data and view the encoded values as a scatter plot:\n",
        "\n",
        "(note that we adjusted the orientations of the scatter plots and the manifold image such that digits look normal (and not upside down) to a human eye)"
      ]
    },
    {
      "cell_type": "code",
      "execution_count": null,
      "metadata": {
        "id": "SXHihkT-_dXW"
      },
      "outputs": [],
      "source": [
        "z_mean, z_sd = rvae.encode(train_data)\n",
        "fig, ax = plt.subplots(figsize =(14, 9))\n",
        "\n",
        "im = ax.scatter(z_mean[:,2], z_mean[:,1], c=train_labels, s=1, cmap='plasma', vmin=0, vmax=10000) # Você pode adicionar vmin e vmax se necessário\n",
        "ax.set_xlabel(\"$z_1$\", fontsize=14)\n",
        "ax.set_ylabel(\"$z_2$\", fontsize=14)\n",
        "\n",
        "cbar = fig.colorbar(im, ax=ax, shrink=.8)\n",
        "cbar.set_label(\"Labels\", fontsize=14)\n",
        "cbar.ax.tick_params(labelsize=10)\n",
        "\n",
        "plt.show()\n"
      ]
    },
    {
      "cell_type": "markdown",
      "metadata": {
        "id": "Tz3IlXmDfsnc"
      },
      "source": [
        "Plot true angles vs. encoded angles:"
      ]
    },
    {
      "cell_type": "code",
      "source": [],
      "metadata": {
        "id": "ekZB2p61HgIz"
      },
      "execution_count": null,
      "outputs": []
    },
    {
      "cell_type": "code",
      "source": [
        "# Mascara os NaNs e depois obtém o valor máximo\n",
        "max_value = np.nanmax(train_labels)\n",
        "\n",
        "print(max_value)"
      ],
      "metadata": {
        "id": "Qr96D5Jgy3BS"
      },
      "execution_count": null,
      "outputs": []
    },
    {
      "cell_type": "code",
      "source": [
        "# Converta o tensor para numpy para plotagem\n",
        "train_labels = categorias.numpy()\n",
        "\n",
        "# Plote o histograma\n",
        "plt.hist(data_numpy, bins=20, edgecolor='black')  # você pode ajustar o número de bins conforme necessário\n",
        "plt.title('Histograma dos Valores')\n",
        "plt.xlabel('Valores')\n",
        "plt.ylabel('Frequência')\n",
        "plt.show()"
      ],
      "metadata": {
        "id": "pCmm_CZkxA-k"
      },
      "execution_count": null,
      "outputs": []
    },
    {
      "cell_type": "code",
      "execution_count": null,
      "metadata": {
        "id": "mJX7ZNNSJxLU"
      },
      "outputs": [],
      "source": [
        "plt.figure(figsize=(6, 6))\n",
        "plt.xlabel(\"Angle\", fontsize=12)\n",
        "plt.ylabel(\"Encoded angle\", fontsize=14)\n",
        "ax = sns.histplot(x=angles, y=z_mean[:, 0], bins=50, pthresh=.1);"
      ]
    },
    {
      "cell_type": "markdown",
      "metadata": {
        "id": "p-OYzhOsfwaF"
      },
      "source": [
        "### Train class-conditioned rVAE (crVAE)"
      ]
    },
    {
      "cell_type": "markdown",
      "metadata": {
        "id": "jTFRcubgYyqN"
      },
      "source": [
        "Reinitialize dataloader:"
      ]
    },
    {
      "cell_type": "code",
      "execution_count": null,
      "metadata": {
        "id": "qDYlBMHkYx3V"
      },
      "outputs": [],
      "source": [
        "train_loader = init_dataloader(train_data, train_labels, batch_size=100)"
      ]
    },
    {
      "cell_type": "markdown",
      "metadata": {
        "id": "GGvohsKDfDWr"
      },
      "source": [
        "Train crVAE model:"
      ]
    },
    {
      "cell_type": "code",
      "execution_count": null,
      "metadata": {
        "id": "hhiMRRgPYx3Y"
      },
      "outputs": [],
      "source": [
        "in_dim = (28, 28)\n",
        "\n",
        "# Initialize probabilistic VAE model ->\n",
        "# (coord=0: vanilla VAE\n",
        "#  coord=1: rotations only\n",
        "#  coord=2: translations only\n",
        "#  coord=3: rotations+translations)\n",
        "crvae = rVAE(in_dim, latent_dim=4, num_classes=10, coord=1, seed=0) # scale_factor\n",
        "\n",
        "# Initialize SVI trainer\n",
        "trainer = SVItrainer(crvae)\n",
        "# Train for n epochs:\n",
        "for e in range(600):\n",
        "    # Scale factor balances the qualitiy of reconstruction with the quality of disentanglement\n",
        "    # It is optional, and the crvae will also work without it\n",
        "    trainer.step(train_loader)\n",
        "    trainer.print_statistics()"
      ]
    },
    {
      "cell_type": "markdown",
      "metadata": {
        "id": "57eARu2bgI1V"
      },
      "source": [
        "View the learned manifold for each class:"
      ]
    },
    {
      "cell_type": "code",
      "execution_count": null,
      "metadata": {
        "id": "tL4vHdagJjUW"
      },
      "outputs": [],
      "source": [
        "for i in range(10):\n",
        "    crvae.manifold2d(d=6, label=i, cmap=\"viridis\")"
      ]
    },
    {
      "cell_type": "markdown",
      "metadata": {
        "id": "I6BbwTXmcojj"
      },
      "source": [
        "Encode all the data and view the encoded values as a scatter plot:"
      ]
    },
    {
      "cell_type": "code",
      "execution_count": null,
      "metadata": {
        "id": "3aO8x_lzYqtt"
      },
      "outputs": [],
      "source": [
        "z_mean, z_sd = crvae.encode(train_data)\n",
        "fig, (ax1, ax2) = plt.subplots(1, 2, figsize =(15, 6))\n",
        "im1 = ax1.scatter(z_mean[:,2], z_mean[:,1], c=angles, s=1, cmap='gnuplot2')\n",
        "ax1.set_xlabel(\"$z_1$\", fontsize=14)\n",
        "ax1.set_ylabel(\"$z_2$\", fontsize=14)\n",
        "cbar1 = fig.colorbar(im1, ax=ax1, shrink=.8)\n",
        "cbar1.set_label(\"Angles (rad)\", fontsize=14)\n",
        "cbar1.ax.tick_params(labelsize=10)\n",
        "im2 = ax2.scatter(z_mean[:,2], z_mean[:,1], c=train_labels, s=1, cmap='jet')\n",
        "ax2.set_xlabel(\"$z_1$\", fontsize=14)\n",
        "ax2.set_ylabel(\"$z_2$\", fontsize=14)\n",
        "cbar2 = fig.colorbar(im2, ax=ax2, shrink=.8)\n",
        "cbar2.set_label(\"Labels\", fontsize=14)\n",
        "cbar2.ax.tick_params(labelsize=10)"
      ]
    },
    {
      "cell_type": "code",
      "execution_count": null,
      "metadata": {
        "id": "sQtBJd5ybC5s"
      },
      "outputs": [],
      "source": []
    }
  ],
  "metadata": {
    "colab": {
      "provenance": [],
      "include_colab_link": true
    },
    "kernelspec": {
      "display_name": "Python 3",
      "name": "python3"
    }
  },
  "nbformat": 4,
  "nbformat_minor": 0
}